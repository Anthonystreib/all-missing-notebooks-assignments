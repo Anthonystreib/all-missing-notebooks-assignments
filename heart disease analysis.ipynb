{
 "cells": [
  {
   "cell_type": "code",
   "execution_count": 2,
   "id": "33a17604",
   "metadata": {},
   "outputs": [],
   "source": [
    "import numpy as np"
   ]
  },
  {
   "cell_type": "code",
   "execution_count": 3,
   "id": "4c5905ee",
   "metadata": {},
   "outputs": [],
   "source": [
    "data=np.genfromtxt(\"heart.csv\", delimiter=\",\", skip_header=True)"
   ]
  },
  {
   "cell_type": "code",
   "execution_count": null,
   "id": "8743b849",
   "metadata": {},
   "outputs": [],
   "source": []
  },
  {
   "cell_type": "code",
   "execution_count": 4,
   "id": "345ddb57",
   "metadata": {},
   "outputs": [
    {
     "data": {
      "text/plain": [
       "array([[63.,  1.,  3., ...,  0.,  1.,  1.],\n",
       "       [37.,  1.,  2., ...,  0.,  2.,  1.],\n",
       "       [41.,  0.,  1., ...,  0.,  2.,  1.],\n",
       "       ...,\n",
       "       [68.,  1.,  0., ...,  2.,  3.,  0.],\n",
       "       [57.,  1.,  0., ...,  1.,  3.,  0.],\n",
       "       [57.,  0.,  1., ...,  1.,  2.,  0.]])"
      ]
     },
     "execution_count": 4,
     "metadata": {},
     "output_type": "execute_result"
    }
   ],
   "source": [
    "data"
   ]
  },
  {
   "cell_type": "code",
   "execution_count": 7,
   "id": "5434d93c",
   "metadata": {},
   "outputs": [
    {
     "name": "stdout",
     "output_type": "stream",
     "text": [
      "age: [63. 37. 41. 56. 57.]\n",
      "sex: [1. 1. 0. 1. 0.]\n",
      "trestbps: [145. 130. 130. 120. 120.]\n",
      "chol: [233. 250. 204. 236. 354.]\n",
      "thalach: [150. 187. 172. 178. 163.]\n",
      "target: [1. 1. 1. 1. 1.]\n"
     ]
    }
   ],
   "source": [
    "age=data[:,0]\n",
    "print(f\"age: {age[:5]}\")\n",
    "sex=data[:,1]\n",
    "print(f\"sex: {sex[:5]}\")\n",
    "trestbps=data[:,3]\n",
    "print(f\"trestbps: {trestbps[:5]}\")\n",
    "chol=data[:,4]\n",
    "print(f\"chol: {chol[:5]}\")\n",
    "thalach=data[:,7]\n",
    "print(f\"thalach: {thalach[:5]}\")\n",
    "target=data[:,13]\n",
    "print(f\"target: {target[:5]}\")"
   ]
  },
  {
   "cell_type": "markdown",
   "id": "1eb271ed",
   "metadata": {},
   "source": [
    "### Basic descriptive statistics:"
   ]
  },
  {
   "cell_type": "code",
   "execution_count": 8,
   "id": "24a7b8ac",
   "metadata": {},
   "outputs": [
    {
     "name": "stdout",
     "output_type": "stream",
     "text": [
      "---Basic Descriptive Statistics on Age---\n",
      "Mean: 54\n",
      "Median: 55.0\n",
      "Standard Deviation: 9\n",
      "Min: 29.0\n",
      "Max: 77.0\n"
     ]
    }
   ],
   "source": [
    "# Age\n",
    "print(\"---Basic Descriptive Statistics on Age---\")\n",
    "print(f\"Mean: {round(np.mean(age))}\")\n",
    "print(f\"Median: {np.median(age)}\")\n",
    "print(f\"Standard Deviation: {round(np.std(age))}\")\n",
    "print(f\"Min: {np.min(age)}\")\n",
    "print(f\"Max: {np.max(age)}\")"
   ]
  },
  {
   "cell_type": "code",
   "execution_count": 9,
   "id": "67b38697",
   "metadata": {},
   "outputs": [
    {
     "name": "stdout",
     "output_type": "stream",
     "text": [
      "---Basic Descriptive Statistics on Sex---\n",
      "Mean: 1\n",
      "Median: 1.0\n",
      "Standard Deviation: 0\n",
      "Min: 0.0\n",
      "Max: 1.0\n"
     ]
    }
   ],
   "source": [
    "# Sex\n",
    "print(\"---Basic Descriptive Statistics on Sex---\")\n",
    "print(f\"Mean: {round(np.mean(sex))}\")\n",
    "print(f\"Median: {np.median(sex)}\")\n",
    "print(f\"Standard Deviation: {round(np.std(sex))}\")\n",
    "print(f\"Min: {np.min(sex)}\")\n",
    "print(f\"Max: {np.max(sex)}\")"
   ]
  },
  {
   "cell_type": "code",
   "execution_count": 10,
   "id": "6785b9ba",
   "metadata": {},
   "outputs": [
    {
     "name": "stdout",
     "output_type": "stream",
     "text": [
      "---Basic Descriptive Statistics on Trestbps---\n",
      "Mean: 132\n",
      "Median: 130.0\n",
      "Standard Deviation: 18\n",
      "Min: 94.0\n",
      "Max: 200.0\n"
     ]
    }
   ],
   "source": [
    "# Trestbps\n",
    "print(\"---Basic Descriptive Statistics on Trestbps---\")\n",
    "print(f\"Mean: {round(np.mean(trestbps))}\")\n",
    "print(f\"Median: {np.median(trestbps)}\")\n",
    "print(f\"Standard Deviation: {round(np.std(trestbps))}\")\n",
    "print(f\"Min: {np.min(trestbps)}\")\n",
    "print(f\"Max: {np.max(trestbps)}\")"
   ]
  },
  {
   "cell_type": "code",
   "execution_count": 11,
   "id": "87315d93",
   "metadata": {},
   "outputs": [
    {
     "name": "stdout",
     "output_type": "stream",
     "text": [
      "---Basic Descriptive Statistics on Chol---\n",
      "Mean: 246\n",
      "Median: 240.0\n",
      "Standard Deviation: 52\n",
      "Min: 126.0\n",
      "Max: 564.0\n"
     ]
    }
   ],
   "source": [
    "# Chol\n",
    "print(\"---Basic Descriptive Statistics on Chol---\")\n",
    "print(f\"Mean: {round(np.mean(chol))}\")\n",
    "print(f\"Median: {np.median(chol)}\")\n",
    "print(f\"Standard Deviation: {round(np.std(chol))}\")\n",
    "print(f\"Min: {np.min(chol)}\")\n",
    "print(f\"Max: {np.max(chol)}\")"
   ]
  },
  {
   "cell_type": "code",
   "execution_count": 12,
   "id": "599c772c",
   "metadata": {},
   "outputs": [
    {
     "name": "stdout",
     "output_type": "stream",
     "text": [
      "---Basic Descriptive Statistics on Thalach---\n",
      "Mean: 150\n",
      "Median: 153.0\n",
      "Standard Deviation: 23\n",
      "Min: 71.0\n",
      "Max: 202.0\n"
     ]
    }
   ],
   "source": [
    "# Thalach\n",
    "print(\"---Basic Descriptive Statistics on Thalach---\")\n",
    "print(f\"Mean: {round(np.mean(thalach))}\")\n",
    "print(f\"Median: {np.median(thalach)}\")\n",
    "print(f\"Standard Deviation: {round(np.std(thalach))}\")\n",
    "print(f\"Min: {np.min(thalach)}\")\n",
    "print(f\"Max: {np.max(thalach)}\")"
   ]
  },
  {
   "cell_type": "code",
   "execution_count": 13,
   "id": "6c4ea2f0",
   "metadata": {},
   "outputs": [
    {
     "name": "stdout",
     "output_type": "stream",
     "text": [
      "---Basic Descriptive Statistics on Target---\n",
      "Mean: 1\n",
      "Median: 1.0\n",
      "Standard Deviation: 0\n",
      "Min: 0.0\n",
      "Max: 1.0\n"
     ]
    }
   ],
   "source": [
    "# Target\n",
    "print(\"---Basic Descriptive Statistics on Target---\")\n",
    "print(f\"Mean: {round(np.mean(target))}\")\n",
    "print(f\"Median: {np.median(target)}\")\n",
    "print(f\"Standard Deviation: {round(np.std(target))}\")\n",
    "print(f\"Min: {np.min(target)}\")\n",
    "print(f\"Max: {np.max(target)}\")"
   ]
  },
  {
   "cell_type": "markdown",
   "id": "29914c36",
   "metadata": {},
   "source": [
    "### Data Filtering"
   ]
  },
  {
   "cell_type": "code",
   "execution_count": 14,
   "id": "2728d768",
   "metadata": {},
   "outputs": [
    {
     "name": "stdout",
     "output_type": "stream",
     "text": [
      "Number of rows before filtering: 303\n"
     ]
    }
   ],
   "source": [
    "print(f\"Number of rows before filtering: {len(data)}\")"
   ]
  },
  {
   "cell_type": "code",
   "execution_count": 31,
   "id": "1ba7262c",
   "metadata": {},
   "outputs": [
    {
     "name": "stdout",
     "output_type": "stream",
     "text": [
      "Number of rows after filtering: 12\n"
     ]
    }
   ],
   "source": [
    "filtered_data=data[(age>50) & (chol>250) & (target==1) & (sex==1)]\n",
    "print(f\"Number of rows after filtering: {len(filtered_data)}\")"
   ]
  },
  {
   "cell_type": "markdown",
   "id": "d4fcc832",
   "metadata": {},
   "source": [
    "### Number of unique categories"
   ]
  },
  {
   "cell_type": "code",
   "execution_count": 17,
   "id": "e1305286",
   "metadata": {},
   "outputs": [
    {
     "name": "stdout",
     "output_type": "stream",
     "text": [
      "Unique trestbps counts: [ 94. 100. 101. 102. 104. 105. 106. 108. 110. 112. 114. 115. 117. 118.\n",
      " 120. 122. 123. 124. 125. 126. 128. 129. 130. 132. 134. 135. 136. 138.\n",
      " 140. 142. 144. 145. 146. 148. 150. 152. 154. 155. 156. 160. 164. 165.\n",
      " 170. 172. 174. 178. 180. 192. 200.]\n",
      " How many unique trestbps: 49\n"
     ]
    }
   ],
   "source": [
    "print(f\"Unique trestbps counts: {np.unique(trestbps)}\")\n",
    "print(f\" How many unique trestbps: {len(np.unique(trestbps))}\")"
   ]
  },
  {
   "cell_type": "code",
   "execution_count": 18,
   "id": "48bf7ea8",
   "metadata": {},
   "outputs": [
    {
     "name": "stdout",
     "output_type": "stream",
     "text": [
      "Unique chol counts: [126. 131. 141. 149. 157. 160. 164. 166. 167. 168. 169. 172. 174. 175.\n",
      " 176. 177. 178. 180. 182. 183. 184. 185. 186. 187. 188. 192. 193. 195.\n",
      " 196. 197. 198. 199. 200. 201. 203. 204. 205. 206. 207. 208. 209. 210.\n",
      " 211. 212. 213. 214. 215. 216. 217. 218. 219. 220. 221. 222. 223. 224.\n",
      " 225. 226. 227. 228. 229. 230. 231. 232. 233. 234. 235. 236. 237. 239.\n",
      " 240. 241. 242. 243. 244. 245. 246. 247. 248. 249. 250. 252. 253. 254.\n",
      " 255. 256. 257. 258. 259. 260. 261. 262. 263. 264. 265. 266. 267. 268.\n",
      " 269. 270. 271. 273. 274. 275. 276. 277. 278. 281. 282. 283. 284. 286.\n",
      " 288. 289. 290. 293. 294. 295. 298. 299. 300. 302. 303. 304. 305. 306.\n",
      " 307. 308. 309. 311. 313. 315. 318. 319. 321. 322. 325. 326. 327. 330.\n",
      " 335. 340. 341. 342. 353. 354. 360. 394. 407. 409. 417. 564.]\n",
      " How many unique chol: 152\n"
     ]
    }
   ],
   "source": [
    "print(f\"Unique chol counts: {np.unique(chol)}\")\n",
    "print(f\" How many unique chol: {len(np.unique(chol))}\")"
   ]
  },
  {
   "cell_type": "code",
   "execution_count": 19,
   "id": "a5f6f776",
   "metadata": {},
   "outputs": [
    {
     "name": "stdout",
     "output_type": "stream",
     "text": [
      "Unique thalach counts: [ 71.  88.  90.  95.  96.  97.  99. 103. 105. 106. 108. 109. 111. 112.\n",
      " 113. 114. 115. 116. 117. 118. 120. 121. 122. 123. 124. 125. 126. 127.\n",
      " 128. 129. 130. 131. 132. 133. 134. 136. 137. 138. 139. 140. 141. 142.\n",
      " 143. 144. 145. 146. 147. 148. 149. 150. 151. 152. 153. 154. 155. 156.\n",
      " 157. 158. 159. 160. 161. 162. 163. 164. 165. 166. 167. 168. 169. 170.\n",
      " 171. 172. 173. 174. 175. 177. 178. 179. 180. 181. 182. 184. 185. 186.\n",
      " 187. 188. 190. 192. 194. 195. 202.]\n",
      " How many unique thalach: 91\n"
     ]
    }
   ],
   "source": [
    "print(f\"Unique thalach counts: {np.unique(thalach)}\")\n",
    "print(f\" How many unique thalach: {len(np.unique(thalach))}\")"
   ]
  },
  {
   "cell_type": "markdown",
   "id": "9cd71890",
   "metadata": {},
   "source": [
    "### Correlation"
   ]
  },
  {
   "cell_type": "code",
   "execution_count": 26,
   "id": "ab0d210a",
   "metadata": {},
   "outputs": [
    {
     "name": "stdout",
     "output_type": "stream",
     "text": [
      "Corr age and chol [[1.         0.21367796]\n",
      " [0.21367796 1.        ]]\n"
     ]
    }
   ],
   "source": [
    "corr_heartdisease=np.corrcoef(age,chol,rowvar=False)\n",
    "print(f\"Corr age and chol {corr_heartdisease}\")"
   ]
  },
  {
   "cell_type": "code",
   "execution_count": 27,
   "id": "0ba7785d",
   "metadata": {},
   "outputs": [
    {
     "name": "stdout",
     "output_type": "stream",
     "text": [
      "Corr trestbps and chol [[1.         0.12317421]\n",
      " [0.12317421 1.        ]]\n"
     ]
    }
   ],
   "source": [
    "corr_heartdisease=np.corrcoef(trestbps,chol,rowvar=False)\n",
    "print(f\"Corr trestbps and chol {corr_heartdisease}\")"
   ]
  },
  {
   "cell_type": "code",
   "execution_count": 28,
   "id": "423b7445",
   "metadata": {},
   "outputs": [
    {
     "name": "stdout",
     "output_type": "stream",
     "text": [
      "Corr thalach and chol [[ 1.         -0.00993984]\n",
      " [-0.00993984  1.        ]]\n"
     ]
    }
   ],
   "source": [
    "corr_heartdisease=np.corrcoef(thalach,chol,rowvar=False)\n",
    "print(f\"Corr thalach and chol {corr_heartdisease}\")"
   ]
  },
  {
   "cell_type": "markdown",
   "id": "82219dd5",
   "metadata": {},
   "source": [
    "### Analysis"
   ]
  },
  {
   "cell_type": "markdown",
   "id": "c7eb2a3c",
   "metadata": {},
   "source": [
    "* Age and Chol have a 21% which is weak positive\n",
    "* Trestbps and Chol have a 12% which is weak positive\n",
    "* Thalach and Chol have a -0.9% which is weak negative"
   ]
  },
  {
   "cell_type": "markdown",
   "id": "1fcb2384",
   "metadata": {},
   "source": [
    "### Summary"
   ]
  },
  {
   "cell_type": "markdown",
   "id": "87a58400",
   "metadata": {},
   "source": [
    "Initially, in our hypothesis we said that the older a male participant is and the higher their cholesteral levels, the more likely a patient is to get heart disease. After going through and testing the data, we realized that this was not the case and there is actually a completely different correlation between people getting heart disease. However, after analysing the difference in these statistics between male and female patients, we saw more of a correlation between the male patients that are older and have a higher cholesterol levels having heart disease, compared to the females that are older and have higher cholesterol levels"
   ]
  },
  {
   "cell_type": "code",
   "execution_count": null,
   "id": "9224a208",
   "metadata": {},
   "outputs": [],
   "source": []
  }
 ],
 "metadata": {
  "kernelspec": {
   "display_name": "Python 3 (ipykernel)",
   "language": "python",
   "name": "python3"
  },
  "language_info": {
   "codemirror_mode": {
    "name": "ipython",
    "version": 3
   },
   "file_extension": ".py",
   "mimetype": "text/x-python",
   "name": "python",
   "nbconvert_exporter": "python",
   "pygments_lexer": "ipython3",
   "version": "3.11.4"
  }
 },
 "nbformat": 4,
 "nbformat_minor": 5
}
